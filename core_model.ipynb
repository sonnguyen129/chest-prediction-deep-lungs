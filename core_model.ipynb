{
  "nbformat": 4,
  "nbformat_minor": 0,
  "metadata": {
    "kernelspec": {
      "language": "python",
      "display_name": "Python 3",
      "name": "python3"
    },
    "language_info": {
      "pygments_lexer": "ipython3",
      "nbconvert_exporter": "python",
      "version": "3.6.4",
      "file_extension": ".py",
      "codemirror_mode": {
        "name": "ipython",
        "version": 3
      },
      "name": "python",
      "mimetype": "text/x-python"
    },
    "colab": {
      "name": "core_model.ipynb",
      "provenance": []
    }
  },
  "cells": [
    {
      "cell_type": "code",
      "metadata": {
        "trusted": true,
        "id": "lnZQ8kycRNaw",
        "colab_type": "code",
        "colab": {},
        "outputId": "2622ab8b-662b-4fd0-a4b3-9c5627e9a864"
      },
      "source": [
        "import tensorflow as tf\n",
        "device_name = tf.test.gpu_device_name()\n",
        "if \"GPU\" not in device_name:\n",
        "    print(\"GPU device not found\")\n",
        "print('Found GPU at: {}'.format(device_name))"
      ],
      "execution_count": null,
      "outputs": [
        {
          "output_type": "stream",
          "text": [
            "Found GPU at: /device:GPU:0\n"
          ],
          "name": "stdout"
        }
      ]
    },
    {
      "cell_type": "code",
      "metadata": {
        "_uuid": "8f2839f25d086af736a60e9eeb907d3b93b6e0e5",
        "_cell_guid": "b1076dfc-b9ad-4769-8c92-a6c4dae69d19",
        "trusted": true,
        "id": "E7FVHoCFRNa2",
        "colab_type": "code",
        "colab": {}
      },
      "source": [
        "import os\n",
        "import numpy as np\n",
        "import pandas as pd\n",
        "from glob import glob\n",
        "from itertools import chain\n",
        "from sklearn.metrics import roc_curve, auc, roc_auc_score, accuracy_score, average_precision_score\n",
        "from matplotlib import pyplot as plt\n",
        "from sklearn.model_selection import train_test_split\n",
        "from tensorflow.keras.preprocessing.image import ImageDataGenerator\n",
        "\n",
        "import tensorflow as tf"
      ],
      "execution_count": null,
      "outputs": []
    },
    {
      "cell_type": "code",
      "metadata": {
        "trusted": true,
        "id": "BE2tduKwRNa6",
        "colab_type": "code",
        "colab": {}
      },
      "source": [
        "os.environ['CUDA_VISIBLE_DEVICES'] = '0'"
      ],
      "execution_count": null,
      "outputs": []
    },
    {
      "cell_type": "code",
      "metadata": {
        "trusted": true,
        "id": "wSCAusR7RNa9",
        "colab_type": "code",
        "colab": {}
      },
      "source": [
        "DATA_DIR = '../input/data/'\n",
        "image_size = 256\n",
        "batch_size = 32"
      ],
      "execution_count": null,
      "outputs": []
    },
    {
      "cell_type": "markdown",
      "metadata": {
        "id": "PeW9yucDRNbA",
        "colab_type": "text"
      },
      "source": [
        "## Data preprocessing"
      ]
    },
    {
      "cell_type": "markdown",
      "metadata": {
        "id": "qNPwdRMPRNbC",
        "colab_type": "text"
      },
      "source": [
        "### Preprocessing Metadata"
      ]
    },
    {
      "cell_type": "code",
      "metadata": {
        "_uuid": "d629ff2d2480ee46fbb7e2d37f6b5fab8052498a",
        "_cell_guid": "79c7e3d0-c299-4dcb-8224-4455121ee9b0",
        "trusted": true,
        "id": "psIc9nEwRNbD",
        "colab_type": "code",
        "colab": {}
      },
      "source": [
        "df = pd.read_csv(f'{DATA_DIR}Data_Entry_2017.csv')"
      ],
      "execution_count": null,
      "outputs": []
    },
    {
      "cell_type": "code",
      "metadata": {
        "trusted": true,
        "id": "2KijO0tRRNbG",
        "colab_type": "code",
        "colab": {}
      },
      "source": [
        "data_image_paths = {os.path.basename(x): x for x in glob(os.path.join(DATA_DIR, 'images*', '*', '*.png'))}"
      ],
      "execution_count": null,
      "outputs": []
    },
    {
      "cell_type": "code",
      "metadata": {
        "trusted": true,
        "id": "ln5LRMF0RNbJ",
        "colab_type": "code",
        "colab": {}
      },
      "source": [
        "df['path'] = df['Image Index'].map(data_image_paths.get)"
      ],
      "execution_count": null,
      "outputs": []
    },
    {
      "cell_type": "code",
      "metadata": {
        "trusted": true,
        "id": "pumWrAY2RNbM",
        "colab_type": "code",
        "colab": {}
      },
      "source": [
        "df['Finding Labels'] = df['Finding Labels'].map(lambda x: x.replace('No Finding', ''))"
      ],
      "execution_count": null,
      "outputs": []
    },
    {
      "cell_type": "code",
      "metadata": {
        "trusted": true,
        "id": "Obpe9oPoRNbP",
        "colab_type": "code",
        "colab": {}
      },
      "source": [
        "labels = np.unique(list(chain(*df['Finding Labels'].map(lambda x: x.split('|')).tolist())))\n",
        "labels = [x for x in labels if len(x) > 0]"
      ],
      "execution_count": null,
      "outputs": []
    },
    {
      "cell_type": "code",
      "metadata": {
        "trusted": true,
        "id": "5U7wFdE1RNbS",
        "colab_type": "code",
        "colab": {},
        "outputId": "2469ab26-d3e5-47fd-f088-1acf7cb512d8"
      },
      "source": [
        "labels"
      ],
      "execution_count": null,
      "outputs": [
        {
          "output_type": "execute_result",
          "data": {
            "text/plain": [
              "['Atelectasis',\n",
              " 'Cardiomegaly',\n",
              " 'Consolidation',\n",
              " 'Edema',\n",
              " 'Effusion',\n",
              " 'Emphysema',\n",
              " 'Fibrosis',\n",
              " 'Hernia',\n",
              " 'Infiltration',\n",
              " 'Mass',\n",
              " 'Nodule',\n",
              " 'Pleural_Thickening',\n",
              " 'Pneumonia',\n",
              " 'Pneumothorax']"
            ]
          },
          "metadata": {
            "tags": []
          },
          "execution_count": 10
        }
      ]
    },
    {
      "cell_type": "code",
      "metadata": {
        "trusted": true,
        "id": "FEK54EbWRNbV",
        "colab_type": "code",
        "colab": {}
      },
      "source": [
        "for label in labels:\n",
        "    if len(label) > 1:\n",
        "        df[label] = df['Finding Labels'].map(lambda finding: 1.0 if label in finding else 0.0)"
      ],
      "execution_count": null,
      "outputs": []
    },
    {
      "cell_type": "code",
      "metadata": {
        "trusted": true,
        "id": "G-A3vhvORNbY",
        "colab_type": "code",
        "colab": {},
        "outputId": "6c893c17-5668-4658-f9ad-e9c9ec09ed30"
      },
      "source": [
        "df.head()"
      ],
      "execution_count": null,
      "outputs": [
        {
          "output_type": "execute_result",
          "data": {
            "text/plain": [
              "        Image Index          Finding Labels  Follow-up #  Patient ID  \\\n",
              "0  00000001_000.png            Cardiomegaly            0           1   \n",
              "1  00000001_001.png  Cardiomegaly|Emphysema            1           1   \n",
              "2  00000001_002.png   Cardiomegaly|Effusion            2           1   \n",
              "3  00000002_000.png                                    0           2   \n",
              "4  00000003_000.png                  Hernia            0           3   \n",
              "\n",
              "   Patient Age Patient Gender View Position  OriginalImage[Width  Height]  \\\n",
              "0           58              M            PA                 2682     2749   \n",
              "1           58              M            PA                 2894     2729   \n",
              "2           58              M            PA                 2500     2048   \n",
              "3           81              M            PA                 2500     2048   \n",
              "4           81              F            PA                 2582     2991   \n",
              "\n",
              "   OriginalImagePixelSpacing[x  ...  Effusion  Emphysema Fibrosis  Hernia  \\\n",
              "0                        0.143  ...       0.0        0.0      0.0     0.0   \n",
              "1                        0.143  ...       0.0        1.0      0.0     0.0   \n",
              "2                        0.168  ...       1.0        0.0      0.0     0.0   \n",
              "3                        0.171  ...       0.0        0.0      0.0     0.0   \n",
              "4                        0.143  ...       0.0        0.0      0.0     1.0   \n",
              "\n",
              "   Infiltration  Mass  Nodule  Pleural_Thickening  Pneumonia  Pneumothorax  \n",
              "0           0.0   0.0     0.0                 0.0        0.0           0.0  \n",
              "1           0.0   0.0     0.0                 0.0        0.0           0.0  \n",
              "2           0.0   0.0     0.0                 0.0        0.0           0.0  \n",
              "3           0.0   0.0     0.0                 0.0        0.0           0.0  \n",
              "4           0.0   0.0     0.0                 0.0        0.0           0.0  \n",
              "\n",
              "[5 rows x 27 columns]"
            ],
            "text/html": [
              "<div>\n",
              "<style scoped>\n",
              "    .dataframe tbody tr th:only-of-type {\n",
              "        vertical-align: middle;\n",
              "    }\n",
              "\n",
              "    .dataframe tbody tr th {\n",
              "        vertical-align: top;\n",
              "    }\n",
              "\n",
              "    .dataframe thead th {\n",
              "        text-align: right;\n",
              "    }\n",
              "</style>\n",
              "<table border=\"1\" class=\"dataframe\">\n",
              "  <thead>\n",
              "    <tr style=\"text-align: right;\">\n",
              "      <th></th>\n",
              "      <th>Image Index</th>\n",
              "      <th>Finding Labels</th>\n",
              "      <th>Follow-up #</th>\n",
              "      <th>Patient ID</th>\n",
              "      <th>Patient Age</th>\n",
              "      <th>Patient Gender</th>\n",
              "      <th>View Position</th>\n",
              "      <th>OriginalImage[Width</th>\n",
              "      <th>Height]</th>\n",
              "      <th>OriginalImagePixelSpacing[x</th>\n",
              "      <th>...</th>\n",
              "      <th>Effusion</th>\n",
              "      <th>Emphysema</th>\n",
              "      <th>Fibrosis</th>\n",
              "      <th>Hernia</th>\n",
              "      <th>Infiltration</th>\n",
              "      <th>Mass</th>\n",
              "      <th>Nodule</th>\n",
              "      <th>Pleural_Thickening</th>\n",
              "      <th>Pneumonia</th>\n",
              "      <th>Pneumothorax</th>\n",
              "    </tr>\n",
              "  </thead>\n",
              "  <tbody>\n",
              "    <tr>\n",
              "      <th>0</th>\n",
              "      <td>00000001_000.png</td>\n",
              "      <td>Cardiomegaly</td>\n",
              "      <td>0</td>\n",
              "      <td>1</td>\n",
              "      <td>58</td>\n",
              "      <td>M</td>\n",
              "      <td>PA</td>\n",
              "      <td>2682</td>\n",
              "      <td>2749</td>\n",
              "      <td>0.143</td>\n",
              "      <td>...</td>\n",
              "      <td>0.0</td>\n",
              "      <td>0.0</td>\n",
              "      <td>0.0</td>\n",
              "      <td>0.0</td>\n",
              "      <td>0.0</td>\n",
              "      <td>0.0</td>\n",
              "      <td>0.0</td>\n",
              "      <td>0.0</td>\n",
              "      <td>0.0</td>\n",
              "      <td>0.0</td>\n",
              "    </tr>\n",
              "    <tr>\n",
              "      <th>1</th>\n",
              "      <td>00000001_001.png</td>\n",
              "      <td>Cardiomegaly|Emphysema</td>\n",
              "      <td>1</td>\n",
              "      <td>1</td>\n",
              "      <td>58</td>\n",
              "      <td>M</td>\n",
              "      <td>PA</td>\n",
              "      <td>2894</td>\n",
              "      <td>2729</td>\n",
              "      <td>0.143</td>\n",
              "      <td>...</td>\n",
              "      <td>0.0</td>\n",
              "      <td>1.0</td>\n",
              "      <td>0.0</td>\n",
              "      <td>0.0</td>\n",
              "      <td>0.0</td>\n",
              "      <td>0.0</td>\n",
              "      <td>0.0</td>\n",
              "      <td>0.0</td>\n",
              "      <td>0.0</td>\n",
              "      <td>0.0</td>\n",
              "    </tr>\n",
              "    <tr>\n",
              "      <th>2</th>\n",
              "      <td>00000001_002.png</td>\n",
              "      <td>Cardiomegaly|Effusion</td>\n",
              "      <td>2</td>\n",
              "      <td>1</td>\n",
              "      <td>58</td>\n",
              "      <td>M</td>\n",
              "      <td>PA</td>\n",
              "      <td>2500</td>\n",
              "      <td>2048</td>\n",
              "      <td>0.168</td>\n",
              "      <td>...</td>\n",
              "      <td>1.0</td>\n",
              "      <td>0.0</td>\n",
              "      <td>0.0</td>\n",
              "      <td>0.0</td>\n",
              "      <td>0.0</td>\n",
              "      <td>0.0</td>\n",
              "      <td>0.0</td>\n",
              "      <td>0.0</td>\n",
              "      <td>0.0</td>\n",
              "      <td>0.0</td>\n",
              "    </tr>\n",
              "    <tr>\n",
              "      <th>3</th>\n",
              "      <td>00000002_000.png</td>\n",
              "      <td></td>\n",
              "      <td>0</td>\n",
              "      <td>2</td>\n",
              "      <td>81</td>\n",
              "      <td>M</td>\n",
              "      <td>PA</td>\n",
              "      <td>2500</td>\n",
              "      <td>2048</td>\n",
              "      <td>0.171</td>\n",
              "      <td>...</td>\n",
              "      <td>0.0</td>\n",
              "      <td>0.0</td>\n",
              "      <td>0.0</td>\n",
              "      <td>0.0</td>\n",
              "      <td>0.0</td>\n",
              "      <td>0.0</td>\n",
              "      <td>0.0</td>\n",
              "      <td>0.0</td>\n",
              "      <td>0.0</td>\n",
              "      <td>0.0</td>\n",
              "    </tr>\n",
              "    <tr>\n",
              "      <th>4</th>\n",
              "      <td>00000003_000.png</td>\n",
              "      <td>Hernia</td>\n",
              "      <td>0</td>\n",
              "      <td>3</td>\n",
              "      <td>81</td>\n",
              "      <td>F</td>\n",
              "      <td>PA</td>\n",
              "      <td>2582</td>\n",
              "      <td>2991</td>\n",
              "      <td>0.143</td>\n",
              "      <td>...</td>\n",
              "      <td>0.0</td>\n",
              "      <td>0.0</td>\n",
              "      <td>0.0</td>\n",
              "      <td>1.0</td>\n",
              "      <td>0.0</td>\n",
              "      <td>0.0</td>\n",
              "      <td>0.0</td>\n",
              "      <td>0.0</td>\n",
              "      <td>0.0</td>\n",
              "      <td>0.0</td>\n",
              "    </tr>\n",
              "  </tbody>\n",
              "</table>\n",
              "<p>5 rows × 27 columns</p>\n",
              "</div>"
            ]
          },
          "metadata": {
            "tags": []
          },
          "execution_count": 12
        }
      ]
    },
    {
      "cell_type": "code",
      "metadata": {
        "trusted": true,
        "id": "tArND23wRNbb",
        "colab_type": "code",
        "colab": {}
      },
      "source": [
        "labels = [label for label in labels if df[label].sum() > 1000]"
      ],
      "execution_count": null,
      "outputs": []
    },
    {
      "cell_type": "code",
      "metadata": {
        "trusted": true,
        "id": "9LoCWChRRNbd",
        "colab_type": "code",
        "colab": {},
        "outputId": "c0a5476b-7a57-46d9-c478-ddfacf697f05"
      },
      "source": [
        "labels"
      ],
      "execution_count": null,
      "outputs": [
        {
          "output_type": "execute_result",
          "data": {
            "text/plain": [
              "['Atelectasis',\n",
              " 'Cardiomegaly',\n",
              " 'Consolidation',\n",
              " 'Edema',\n",
              " 'Effusion',\n",
              " 'Emphysema',\n",
              " 'Fibrosis',\n",
              " 'Infiltration',\n",
              " 'Mass',\n",
              " 'Nodule',\n",
              " 'Pleural_Thickening',\n",
              " 'Pneumonia',\n",
              " 'Pneumothorax']"
            ]
          },
          "metadata": {
            "tags": []
          },
          "execution_count": 14
        }
      ]
    },
    {
      "cell_type": "code",
      "metadata": {
        "trusted": true,
        "id": "nu9BxgG6RNbg",
        "colab_type": "code",
        "colab": {}
      },
      "source": [
        "train_df, valid_df = train_test_split(df, test_size=0.20, random_state=2018, stratify=df['Finding Labels'].map(lambda x: x[:4]))"
      ],
      "execution_count": null,
      "outputs": []
    },
    {
      "cell_type": "code",
      "metadata": {
        "trusted": true,
        "id": "RRmVt0tZRNbj",
        "colab_type": "code",
        "colab": {},
        "outputId": "f2a9f432-f2c8-41ff-9591-540800aaf2df"
      },
      "source": [
        "train_df['labels'] = train_df.apply(lambda x: x['Finding Labels'].split('|'), axis=1)\n",
        "valid_df['labels'] = valid_df.apply(lambda x: x['Finding Labels'].split('|'), axis=1)"
      ],
      "execution_count": null,
      "outputs": [
        {
          "output_type": "stream",
          "text": [
            "/opt/conda/lib/python3.7/site-packages/ipykernel_launcher.py:1: SettingWithCopyWarning: \n",
            "A value is trying to be set on a copy of a slice from a DataFrame.\n",
            "Try using .loc[row_indexer,col_indexer] = value instead\n",
            "\n",
            "See the caveats in the documentation: https://pandas.pydata.org/pandas-docs/stable/user_guide/indexing.html#returning-a-view-versus-a-copy\n",
            "  \"\"\"Entry point for launching an IPython kernel.\n",
            "/opt/conda/lib/python3.7/site-packages/ipykernel_launcher.py:2: SettingWithCopyWarning: \n",
            "A value is trying to be set on a copy of a slice from a DataFrame.\n",
            "Try using .loc[row_indexer,col_indexer] = value instead\n",
            "\n",
            "See the caveats in the documentation: https://pandas.pydata.org/pandas-docs/stable/user_guide/indexing.html#returning-a-view-versus-a-copy\n",
            "  \n"
          ],
          "name": "stderr"
        }
      ]
    },
    {
      "cell_type": "markdown",
      "metadata": {
        "id": "APmZ6xnTRNbm",
        "colab_type": "text"
      },
      "source": [
        "### Define DataGenerator"
      ]
    },
    {
      "cell_type": "code",
      "metadata": {
        "trusted": true,
        "id": "8xTw7az8RNbm",
        "colab_type": "code",
        "colab": {},
        "outputId": "2ee30a0d-2602-4e74-d5b4-99d6771a9a4a"
      },
      "source": [
        "core_idg = ImageDataGenerator(rescale=1 / 255,\n",
        "                                  samplewise_center=True,\n",
        "                                  samplewise_std_normalization=True,\n",
        "                                  horizontal_flip=True,\n",
        "                                  vertical_flip=False,\n",
        "                                  height_shift_range=0.05,\n",
        "                                  width_shift_range=0.1,\n",
        "                                  rotation_range=5,\n",
        "                                  shear_range=0.1,\n",
        "                                  fill_mode='reflect',\n",
        "                                  zoom_range=0.15)\n",
        "\n",
        "train_gen = core_idg.flow_from_dataframe(dataframe=train_df,\n",
        "                                             directory=None,\n",
        "                                             x_col='path',\n",
        "                                             y_col='labels',\n",
        "                                             class_mode='categorical',\n",
        "                                             batch_size=batch_size,\n",
        "                                             classes=labels,\n",
        "                                             target_size=(image_size, image_size))\n",
        "\n",
        "valid_gen = core_idg.flow_from_dataframe(dataframe=valid_df,\n",
        "                                             directory=None,\n",
        "                                             x_col='path',\n",
        "                                             y_col='labels',\n",
        "                                             class_mode='categorical',\n",
        "                                             batch_size=batch_size,\n",
        "                                             classes=labels,\n",
        "                                             target_size=(image_size, image_size))\n",
        "\n",
        "test_X, test_Y = next(core_idg.flow_from_dataframe(dataframe=valid_df,\n",
        "                                                       directory=None,\n",
        "                                                       x_col='path',\n",
        "                                                       y_col='labels',\n",
        "                                                       class_mode='categorical',\n",
        "                                                       batch_size=1024,\n",
        "                                                       classes=labels,\n",
        "                                                       target_size=(image_size, image_size)))"
      ],
      "execution_count": null,
      "outputs": [
        {
          "output_type": "stream",
          "text": [
            "Found 41318 validated image filenames belonging to 13 classes.\n",
            "Found 10331 validated image filenames belonging to 13 classes.\n",
            "Found 10331 validated image filenames belonging to 13 classes.\n"
          ],
          "name": "stdout"
        }
      ]
    },
    {
      "cell_type": "markdown",
      "metadata": {
        "id": "q7xPZKZFRNbp",
        "colab_type": "text"
      },
      "source": [
        "## Create model"
      ]
    },
    {
      "cell_type": "code",
      "metadata": {
        "trusted": true,
        "id": "xmwjRZF9RNbp",
        "colab_type": "code",
        "colab": {},
        "outputId": "6d9cc460-bd07-4646-d8fa-e1b235c4b49a"
      },
      "source": [
        "from tensorflow.keras.applications.densenet import DenseNet121\n",
        "from tensorflow.keras.applications.inception_v3 import InceptionV3\n",
        "from tensorflow.keras.applications.xception import Xception\n",
        "from tensorflow.keras.applications.nasnet import NASNetMobile\n",
        "from tensorflow.keras.applications.inception_resnet_v2 import InceptionResNetV2\n",
        "\n",
        "base_model = InceptionResNetV2(include_top=False, weights='imagenet', input_shape=(256, 256, 3))\n",
        "x = base_model.output\n",
        "x = tf.keras.layers.GlobalAveragePooling2D()(x)\n",
        "output = tf.keras.layers.Dense(len(labels), activation=\"sigmoid\")(x)\n",
        "model = tf.keras.Model(base_model.input, output)\n",
        "model.compile(optimizer=tf.keras.optimizers.RMSprop(), loss='binary_crossentropy', metrics=['accuracy'])"
      ],
      "execution_count": null,
      "outputs": [
        {
          "output_type": "stream",
          "text": [
            "Downloading data from https://github.com/fchollet/deep-learning-models/releases/download/v0.7/inception_resnet_v2_weights_tf_dim_ordering_tf_kernels_notop.h5\n",
            "219062272/219055592 [==============================] - 15s 0us/step\n"
          ],
          "name": "stdout"
        }
      ]
    },
    {
      "cell_type": "code",
      "metadata": {
        "trusted": true,
        "id": "1HH2XMO1RNbs",
        "colab_type": "code",
        "colab": {}
      },
      "source": [
        "def get_callbacks(model_name):\n",
        "    callbacks = []\n",
        "    tensor_board = tf.keras.callbacks.TensorBoard(log_dir='./logs', histogram_freq=0)\n",
        "    callbacks.append(tensor_board)\n",
        "    checkpoint = tf.keras.callbacks.ModelCheckpoint(\n",
        "        filepath=f'model.{model_name}.h5',\n",
        "        verbose=1,\n",
        "        save_best_only=True)\n",
        "    # erly = tf.keras.callbacks.EarlyStopping(monitor='loss', patience=3)\n",
        "    callbacks.append(checkpoint)\n",
        "    # callbacks.append(erly)\n",
        "    return callbacks"
      ],
      "execution_count": null,
      "outputs": []
    },
    {
      "cell_type": "markdown",
      "metadata": {
        "id": "_kD2XsbRRNbv",
        "colab_type": "text"
      },
      "source": [
        "## Train model"
      ]
    },
    {
      "cell_type": "code",
      "metadata": {
        "trusted": true,
        "id": "-_GWnNSqRNbw",
        "colab_type": "code",
        "colab": {},
        "outputId": "d59da3be-309f-4df7-c433-6fd22afe1179"
      },
      "source": [
        "callbacks = get_callbacks('inceptionresnetv2')\n",
        "model.fit(train_gen,\n",
        "              steps_per_epoch=100,\n",
        "              validation_data=(test_X, test_Y),\n",
        "              epochs=50,\n",
        "              callbacks=callbacks)"
      ],
      "execution_count": null,
      "outputs": [
        {
          "output_type": "stream",
          "text": [
            "Train for 100 steps, validate on 1024 samples\n",
            "Epoch 1/50\n",
            " 99/100 [============================>.] - ETA: 1s - loss: 0.3398 - accuracy: 0.8696\n",
            "Epoch 00001: val_loss improved from inf to 0.43011, saving model to model.inceptionresnetv2.h5\n",
            "100/100 [==============================] - 188s 2s/step - loss: 0.3394 - accuracy: 0.8697 - val_loss: 0.4301 - val_accuracy: 0.8310\n",
            "Epoch 2/50\n",
            " 99/100 [============================>.] - ETA: 1s - loss: 0.3154 - accuracy: 0.8800\n",
            "Epoch 00002: val_loss improved from 0.43011 to 0.39485, saving model to model.inceptionresnetv2.h5\n",
            "100/100 [==============================] - 143s 1s/step - loss: 0.3157 - accuracy: 0.8800 - val_loss: 0.3948 - val_accuracy: 0.8456\n",
            "Epoch 3/50\n",
            " 99/100 [============================>.] - ETA: 1s - loss: 0.3099 - accuracy: 0.8811\n",
            "Epoch 00003: val_loss improved from 0.39485 to 0.32207, saving model to model.inceptionresnetv2.h5\n",
            "100/100 [==============================] - 141s 1s/step - loss: 0.3096 - accuracy: 0.8813 - val_loss: 0.3221 - val_accuracy: 0.8761\n",
            "Epoch 4/50\n",
            " 99/100 [============================>.] - ETA: 1s - loss: 0.3031 - accuracy: 0.8814\n",
            "Epoch 00004: val_loss did not improve from 0.32207\n",
            "100/100 [==============================] - 142s 1s/step - loss: 0.3029 - accuracy: 0.8815 - val_loss: 0.3239 - val_accuracy: 0.8774\n",
            "Epoch 5/50\n",
            " 99/100 [============================>.] - ETA: 1s - loss: 0.2970 - accuracy: 0.8851\n",
            "Epoch 00005: val_loss did not improve from 0.32207\n",
            "100/100 [==============================] - 137s 1s/step - loss: 0.2974 - accuracy: 0.8849 - val_loss: 0.3360 - val_accuracy: 0.8831\n",
            "Epoch 6/50\n",
            " 99/100 [============================>.] - ETA: 1s - loss: 0.2976 - accuracy: 0.8847\n",
            "Epoch 00006: val_loss did not improve from 0.32207\n",
            "100/100 [==============================] - 140s 1s/step - loss: 0.2980 - accuracy: 0.8846 - val_loss: 0.4551 - val_accuracy: 0.8474\n",
            "Epoch 7/50\n",
            " 99/100 [============================>.] - ETA: 1s - loss: 0.2909 - accuracy: 0.8859\n",
            "Epoch 00007: val_loss did not improve from 0.32207\n",
            "100/100 [==============================] - 138s 1s/step - loss: 0.2912 - accuracy: 0.8859 - val_loss: 0.3238 - val_accuracy: 0.8770\n",
            "Epoch 8/50\n",
            " 99/100 [============================>.] - ETA: 1s - loss: 0.2895 - accuracy: 0.8858\n",
            "Epoch 00008: val_loss did not improve from 0.32207\n",
            "100/100 [==============================] - 137s 1s/step - loss: 0.2899 - accuracy: 0.8856 - val_loss: 0.3366 - val_accuracy: 0.8824\n",
            "Epoch 9/50\n",
            " 99/100 [============================>.] - ETA: 1s - loss: 0.2903 - accuracy: 0.8856\n",
            "Epoch 00009: val_loss improved from 0.32207 to 0.29280, saving model to model.inceptionresnetv2.h5\n",
            "100/100 [==============================] - 140s 1s/step - loss: 0.2905 - accuracy: 0.8855 - val_loss: 0.2928 - val_accuracy: 0.8873\n",
            "Epoch 10/50\n",
            " 99/100 [============================>.] - ETA: 1s - loss: 0.2903 - accuracy: 0.8864\n",
            "Epoch 00010: val_loss did not improve from 0.29280\n",
            "100/100 [==============================] - 137s 1s/step - loss: 0.2903 - accuracy: 0.8862 - val_loss: 0.3586 - val_accuracy: 0.8658\n",
            "Epoch 11/50\n",
            " 99/100 [============================>.] - ETA: 1s - loss: 0.2868 - accuracy: 0.8869\n",
            "Epoch 00011: val_loss did not improve from 0.29280\n",
            "100/100 [==============================] - 137s 1s/step - loss: 0.2874 - accuracy: 0.8866 - val_loss: 0.3019 - val_accuracy: 0.8766\n",
            "Epoch 12/50\n",
            " 99/100 [============================>.] - ETA: 1s - loss: 0.2867 - accuracy: 0.8853\n",
            "Epoch 00012: val_loss improved from 0.29280 to 0.28568, saving model to model.inceptionresnetv2.h5\n",
            "100/100 [==============================] - 138s 1s/step - loss: 0.2870 - accuracy: 0.8852 - val_loss: 0.2857 - val_accuracy: 0.8892\n",
            "Epoch 13/50\n",
            " 99/100 [============================>.] - ETA: 1s - loss: 0.2838 - accuracy: 0.8884\n",
            "Epoch 00013: val_loss did not improve from 0.28568\n",
            "100/100 [==============================] - 135s 1s/step - loss: 0.2833 - accuracy: 0.8887 - val_loss: 0.3056 - val_accuracy: 0.8828\n",
            "Epoch 14/50\n",
            " 99/100 [============================>.] - ETA: 1s - loss: 0.2829 - accuracy: 0.8893\n",
            "Epoch 00014: val_loss did not improve from 0.28568\n",
            "100/100 [==============================] - 135s 1s/step - loss: 0.2829 - accuracy: 0.8891 - val_loss: 0.2891 - val_accuracy: 0.8879\n",
            "Epoch 15/50\n",
            " 99/100 [============================>.] - ETA: 1s - loss: 0.2831 - accuracy: 0.8887\n",
            "Epoch 00015: val_loss did not improve from 0.28568\n",
            "100/100 [==============================] - 136s 1s/step - loss: 0.2829 - accuracy: 0.8888 - val_loss: 0.2955 - val_accuracy: 0.8890\n",
            "Epoch 16/50\n",
            " 99/100 [============================>.] - ETA: 1s - loss: 0.2795 - accuracy: 0.8895\n",
            "Epoch 00016: val_loss improved from 0.28568 to 0.28079, saving model to model.inceptionresnetv2.h5\n",
            "100/100 [==============================] - 138s 1s/step - loss: 0.2798 - accuracy: 0.8895 - val_loss: 0.2808 - val_accuracy: 0.8918\n",
            "Epoch 17/50\n",
            " 99/100 [============================>.] - ETA: 1s - loss: 0.2785 - accuracy: 0.8899\n",
            "Epoch 00017: val_loss improved from 0.28079 to 0.27966, saving model to model.inceptionresnetv2.h5\n",
            "100/100 [==============================] - 138s 1s/step - loss: 0.2785 - accuracy: 0.8899 - val_loss: 0.2797 - val_accuracy: 0.8919\n",
            "Epoch 18/50\n",
            " 99/100 [============================>.] - ETA: 1s - loss: 0.2802 - accuracy: 0.8881\n",
            "Epoch 00018: val_loss did not improve from 0.27966\n",
            "100/100 [==============================] - 133s 1s/step - loss: 0.2804 - accuracy: 0.8881 - val_loss: 0.2905 - val_accuracy: 0.8924\n",
            "Epoch 19/50\n",
            " 99/100 [============================>.] - ETA: 1s - loss: 0.2777 - accuracy: 0.8916\n",
            "Epoch 00019: val_loss did not improve from 0.27966\n",
            "100/100 [==============================] - 130s 1s/step - loss: 0.2776 - accuracy: 0.8917 - val_loss: 0.2898 - val_accuracy: 0.8894\n",
            "Epoch 20/50\n",
            " 99/100 [============================>.] - ETA: 1s - loss: 0.2732 - accuracy: 0.8931\n",
            "Epoch 00020: val_loss did not improve from 0.27966\n",
            "100/100 [==============================] - 129s 1s/step - loss: 0.2731 - accuracy: 0.8930 - val_loss: 0.2822 - val_accuracy: 0.8941\n",
            "Epoch 21/50\n",
            " 99/100 [============================>.] - ETA: 1s - loss: 0.2771 - accuracy: 0.8909\n",
            "Epoch 00021: val_loss did not improve from 0.27966\n",
            "100/100 [==============================] - 129s 1s/step - loss: 0.2771 - accuracy: 0.8909 - val_loss: 0.2874 - val_accuracy: 0.8890\n",
            "Epoch 22/50\n",
            " 99/100 [============================>.] - ETA: 1s - loss: 0.2748 - accuracy: 0.8904\n",
            "Epoch 00022: val_loss improved from 0.27966 to 0.27658, saving model to model.inceptionresnetv2.h5\n",
            "100/100 [==============================] - 128s 1s/step - loss: 0.2752 - accuracy: 0.8902 - val_loss: 0.2766 - val_accuracy: 0.8919\n",
            "Epoch 23/50\n",
            " 99/100 [============================>.] - ETA: 1s - loss: 0.2790 - accuracy: 0.8893\n",
            "Epoch 00023: val_loss did not improve from 0.27658\n",
            "100/100 [==============================] - 123s 1s/step - loss: 0.2788 - accuracy: 0.8895 - val_loss: 0.2814 - val_accuracy: 0.8908\n",
            "Epoch 24/50\n",
            " 99/100 [============================>.] - ETA: 1s - loss: 0.2714 - accuracy: 0.8925\n",
            "Epoch 00024: val_loss did not improve from 0.27658\n",
            "100/100 [==============================] - 127s 1s/step - loss: 0.2716 - accuracy: 0.8925 - val_loss: 0.2840 - val_accuracy: 0.8893\n",
            "Epoch 25/50\n",
            " 99/100 [============================>.] - ETA: 1s - loss: 0.2735 - accuracy: 0.8920\n",
            "Epoch 00025: val_loss improved from 0.27658 to 0.27615, saving model to model.inceptionresnetv2.h5\n",
            "100/100 [==============================] - 129s 1s/step - loss: 0.2733 - accuracy: 0.8920 - val_loss: 0.2761 - val_accuracy: 0.8942\n",
            "Epoch 26/50\n",
            " 99/100 [============================>.] - ETA: 1s - loss: 0.2756 - accuracy: 0.8910\n",
            "Epoch 00026: val_loss improved from 0.27615 to 0.26914, saving model to model.inceptionresnetv2.h5\n",
            "100/100 [==============================] - 127s 1s/step - loss: 0.2754 - accuracy: 0.8911 - val_loss: 0.2691 - val_accuracy: 0.8954\n",
            "Epoch 27/50\n",
            " 99/100 [============================>.] - ETA: 1s - loss: 0.2678 - accuracy: 0.8940\n",
            "Epoch 00027: val_loss did not improve from 0.26914\n",
            "100/100 [==============================] - 124s 1s/step - loss: 0.2684 - accuracy: 0.8938 - val_loss: 0.2820 - val_accuracy: 0.8899\n",
            "Epoch 28/50\n",
            " 99/100 [============================>.] - ETA: 1s - loss: 0.2754 - accuracy: 0.8925\n",
            "Epoch 00028: val_loss did not improve from 0.26914\n",
            "100/100 [==============================] - 124s 1s/step - loss: 0.2749 - accuracy: 0.8927 - val_loss: 0.2844 - val_accuracy: 0.8893\n"
          ],
          "name": "stdout"
        },
        {
          "output_type": "stream",
          "text": [
            "Epoch 29/50\n",
            " 99/100 [============================>.] - ETA: 1s - loss: 0.2713 - accuracy: 0.8914\n",
            "Epoch 00029: val_loss did not improve from 0.26914\n",
            "100/100 [==============================] - 126s 1s/step - loss: 0.2712 - accuracy: 0.8914 - val_loss: 0.2768 - val_accuracy: 0.8932\n",
            "Epoch 30/50\n",
            " 99/100 [============================>.] - ETA: 1s - loss: 0.2744 - accuracy: 0.8924\n",
            "Epoch 00030: val_loss did not improve from 0.26914\n",
            "100/100 [==============================] - 125s 1s/step - loss: 0.2743 - accuracy: 0.8924 - val_loss: 0.2901 - val_accuracy: 0.8929\n",
            "Epoch 31/50\n",
            " 99/100 [============================>.] - ETA: 1s - loss: 0.2715 - accuracy: 0.8944\n",
            "Epoch 00031: val_loss did not improve from 0.26914\n",
            "100/100 [==============================] - 125s 1s/step - loss: 0.2710 - accuracy: 0.8945 - val_loss: 0.2835 - val_accuracy: 0.8898\n",
            "Epoch 32/50\n",
            " 99/100 [============================>.] - ETA: 1s - loss: 0.2667 - accuracy: 0.8952\n",
            "Epoch 00032: val_loss did not improve from 0.26914\n",
            "100/100 [==============================] - 123s 1s/step - loss: 0.2669 - accuracy: 0.8951 - val_loss: 0.2959 - val_accuracy: 0.8880\n",
            "Epoch 33/50\n",
            " 99/100 [============================>.] - ETA: 1s - loss: 0.2696 - accuracy: 0.8925\n",
            "Epoch 00033: val_loss did not improve from 0.26914\n",
            "100/100 [==============================] - 123s 1s/step - loss: 0.2697 - accuracy: 0.8926 - val_loss: 0.2826 - val_accuracy: 0.8898\n",
            "Epoch 34/50\n",
            " 99/100 [============================>.] - ETA: 1s - loss: 0.2694 - accuracy: 0.8927\n",
            "Epoch 00034: val_loss did not improve from 0.26914\n",
            "100/100 [==============================] - 122s 1s/step - loss: 0.2696 - accuracy: 0.8926 - val_loss: 0.2805 - val_accuracy: 0.8951\n",
            "Epoch 35/50\n",
            " 99/100 [============================>.] - ETA: 1s - loss: 0.2740 - accuracy: 0.8907\n",
            "Epoch 00035: val_loss did not improve from 0.26914\n",
            "100/100 [==============================] - 122s 1s/step - loss: 0.2737 - accuracy: 0.8908 - val_loss: 0.2747 - val_accuracy: 0.8930\n",
            "Epoch 36/50\n",
            " 99/100 [============================>.] - ETA: 1s - loss: 0.2661 - accuracy: 0.8932\n",
            "Epoch 00036: val_loss did not improve from 0.26914\n",
            "100/100 [==============================] - 125s 1s/step - loss: 0.2662 - accuracy: 0.8932 - val_loss: 0.2805 - val_accuracy: 0.8907\n",
            "Epoch 37/50\n",
            " 99/100 [============================>.] - ETA: 1s - loss: 0.2701 - accuracy: 0.8919\n",
            "Epoch 00037: val_loss improved from 0.26914 to 0.26834, saving model to model.inceptionresnetv2.h5\n",
            "100/100 [==============================] - 126s 1s/step - loss: 0.2698 - accuracy: 0.8921 - val_loss: 0.2683 - val_accuracy: 0.8940\n",
            "Epoch 38/50\n",
            " 99/100 [============================>.] - ETA: 1s - loss: 0.2646 - accuracy: 0.8955\n",
            "Epoch 00038: val_loss did not improve from 0.26834\n",
            "100/100 [==============================] - 122s 1s/step - loss: 0.2646 - accuracy: 0.8956 - val_loss: 0.2903 - val_accuracy: 0.8863\n",
            "Epoch 39/50\n",
            " 99/100 [============================>.] - ETA: 1s - loss: 0.2642 - accuracy: 0.8958\n",
            "Epoch 00039: val_loss did not improve from 0.26834\n",
            "100/100 [==============================] - 121s 1s/step - loss: 0.2645 - accuracy: 0.8959 - val_loss: 0.2732 - val_accuracy: 0.8948\n",
            "Epoch 40/50\n",
            " 99/100 [============================>.] - ETA: 1s - loss: 0.2621 - accuracy: 0.8965\n",
            "Epoch 00040: val_loss did not improve from 0.26834\n",
            "100/100 [==============================] - 121s 1s/step - loss: 0.2619 - accuracy: 0.8965 - val_loss: 0.2808 - val_accuracy: 0.8905\n",
            "Epoch 41/50\n",
            " 99/100 [============================>.] - ETA: 1s - loss: 0.2657 - accuracy: 0.8951\n",
            "Epoch 00041: val_loss did not improve from 0.26834\n",
            "100/100 [==============================] - 119s 1s/step - loss: 0.2659 - accuracy: 0.8950 - val_loss: 0.2770 - val_accuracy: 0.8924\n",
            "Epoch 42/50\n",
            " 99/100 [============================>.] - ETA: 1s - loss: 0.2657 - accuracy: 0.8939\n",
            "Epoch 00042: val_loss did not improve from 0.26834\n",
            "100/100 [==============================] - 121s 1s/step - loss: 0.2661 - accuracy: 0.8937 - val_loss: 0.2726 - val_accuracy: 0.8958\n",
            "Epoch 43/50\n",
            " 99/100 [============================>.] - ETA: 1s - loss: 0.2672 - accuracy: 0.8941\n",
            "Epoch 00043: val_loss did not improve from 0.26834\n",
            "100/100 [==============================] - 121s 1s/step - loss: 0.2671 - accuracy: 0.8940 - val_loss: 0.2776 - val_accuracy: 0.8928\n",
            "Epoch 44/50\n",
            " 99/100 [============================>.] - ETA: 1s - loss: 0.2685 - accuracy: 0.8934\n",
            "Epoch 00044: val_loss did not improve from 0.26834\n",
            "100/100 [==============================] - 122s 1s/step - loss: 0.2681 - accuracy: 0.8936 - val_loss: 0.2694 - val_accuracy: 0.8950\n",
            "Epoch 45/50\n",
            " 99/100 [============================>.] - ETA: 1s - loss: 0.2648 - accuracy: 0.8950\n",
            "Epoch 00045: val_loss did not improve from 0.26834\n",
            "100/100 [==============================] - 126s 1s/step - loss: 0.2647 - accuracy: 0.8949 - val_loss: 0.2710 - val_accuracy: 0.8957\n",
            "Epoch 46/50\n",
            " 99/100 [============================>.] - ETA: 1s - loss: 0.2633 - accuracy: 0.8960\n",
            "Epoch 00046: val_loss did not improve from 0.26834\n",
            "100/100 [==============================] - 128s 1s/step - loss: 0.2633 - accuracy: 0.8959 - val_loss: 0.3040 - val_accuracy: 0.8785\n",
            "Epoch 47/50\n",
            " 99/100 [============================>.] - ETA: 1s - loss: 0.2600 - accuracy: 0.8962\n",
            "Epoch 00047: val_loss did not improve from 0.26834\n",
            "100/100 [==============================] - 129s 1s/step - loss: 0.2598 - accuracy: 0.8963 - val_loss: 0.2753 - val_accuracy: 0.8915\n",
            "Epoch 48/50\n",
            " 99/100 [============================>.] - ETA: 1s - loss: 0.2618 - accuracy: 0.8966\n",
            "Epoch 00048: val_loss did not improve from 0.26834\n",
            "100/100 [==============================] - 130s 1s/step - loss: 0.2620 - accuracy: 0.8965 - val_loss: 0.2740 - val_accuracy: 0.8959\n",
            "Epoch 49/50\n",
            " 99/100 [============================>.] - ETA: 1s - loss: 0.2624 - accuracy: 0.8964\n",
            "Epoch 00049: val_loss did not improve from 0.26834\n",
            "100/100 [==============================] - 134s 1s/step - loss: 0.2626 - accuracy: 0.8964 - val_loss: 0.2936 - val_accuracy: 0.8896\n",
            "Epoch 50/50\n",
            " 99/100 [============================>.] - ETA: 1s - loss: 0.2601 - accuracy: 0.8954\n",
            "Epoch 00050: val_loss did not improve from 0.26834\n",
            "100/100 [==============================] - 132s 1s/step - loss: 0.2602 - accuracy: 0.8953 - val_loss: 0.2810 - val_accuracy: 0.8933\n"
          ],
          "name": "stdout"
        },
        {
          "output_type": "execute_result",
          "data": {
            "text/plain": [
              "<tensorflow.python.keras.callbacks.History at 0x7f905966a710>"
            ]
          },
          "metadata": {
            "tags": []
          },
          "execution_count": 20
        }
      ]
    },
    {
      "cell_type": "code",
      "metadata": {
        "trusted": true,
        "id": "iSP4bfrdRNby",
        "colab_type": "code",
        "colab": {}
      },
      "source": [
        "y_pred = model.predict(test_X)"
      ],
      "execution_count": null,
      "outputs": []
    },
    {
      "cell_type": "code",
      "metadata": {
        "trusted": true,
        "id": "s00U_XW0RNb1",
        "colab_type": "code",
        "colab": {},
        "outputId": "810ea73e-b112-45c6-dfce-57f82e12c11c"
      },
      "source": [
        "for label, p_count, t_count in zip(labels,\n",
        "                                     100 * np.mean(y_pred, 0),\n",
        "                                     100 * np.mean(test_Y, 0)):\n",
        "    print('%s: actual: %2.2f%%, predicted: %2.2f%%' % (label, t_count, p_count))"
      ],
      "execution_count": null,
      "outputs": [
        {
          "output_type": "stream",
          "text": [
            "Atelectasis: actual: 21.09%, predicted: 16.21%\n",
            "Cardiomegaly: actual: 5.08%, predicted: 4.81%\n",
            "Consolidation: actual: 8.50%, predicted: 6.71%\n",
            "Edema: actual: 3.42%, predicted: 1.59%\n",
            "Effusion: actual: 24.22%, predicted: 28.34%\n",
            "Emphysema: actual: 5.08%, predicted: 3.16%\n",
            "Fibrosis: actual: 4.39%, predicted: 4.17%\n",
            "Infiltration: actual: 37.99%, predicted: 35.84%\n",
            "Mass: actual: 10.06%, predicted: 19.02%\n",
            "Nodule: actual: 11.43%, predicted: 14.31%\n",
            "Pleural_Thickening: actual: 6.84%, predicted: 12.13%\n",
            "Pneumonia: actual: 2.64%, predicted: 2.24%\n",
            "Pneumothorax: actual: 10.16%, predicted: 4.55%\n"
          ],
          "name": "stdout"
        }
      ]
    },
    {
      "cell_type": "code",
      "metadata": {
        "trusted": true,
        "id": "Ss5m962jRNb4",
        "colab_type": "code",
        "colab": {},
        "outputId": "d214c53b-f40e-48e3-cc8d-404509cd7a0c"
      },
      "source": [
        "fig, c_ax = plt.subplots(1, 1, figsize=(9, 9))\n",
        "for (idx, c_label) in enumerate(labels):\n",
        "    fpr, tpr, thresholds = roc_curve(test_Y[:, idx].astype(int), y_pred[:, idx])\n",
        "    c_ax.plot(fpr, tpr, label='%s (AUC:%0.2f)' % (c_label, auc(fpr, tpr)))\n",
        "c_ax.legend()\n",
        "c_ax.set_xlabel('False Positive Rate')\n",
        "c_ax.set_ylabel('True Positive Rate')\n",
        "fig.savefig('trained_net.png')"
      ],
      "execution_count": null,
      "outputs": [
        {
          "output_type": "display_data",
          "data": {
            "text/plain": [
              "<Figure size 648x648 with 1 Axes>"
            ],
            "image/png": "[encoded data removed]"
          },
          "metadata": {
            "tags": [],
            "needs_background": "light"
          }
        }
      ]
    },
    {
      "cell_type": "code",
      "metadata": {
        "trusted": true,
        "id": "1VVVCaSBRNb7",
        "colab_type": "code",
        "colab": {},
        "outputId": "bf518acd-dd23-47d3-915f-7c5213fde9e6"
      },
      "source": [
        "print('ROC auc score: {:.3f}'.format(roc_auc_score(test_Y.astype(int), y_pred)))"
      ],
      "execution_count": null,
      "outputs": [
        {
          "output_type": "stream",
          "text": [
            "ROC auc score: 0.771\n"
          ],
          "name": "stdout"
        }
      ]
    },
    {
      "cell_type": "code",
      "metadata": {
        "trusted": true,
        "id": "654lE6moRNb-",
        "colab_type": "code",
        "colab": {}
      },
      "source": [
        ""
      ],
      "execution_count": null,
      "outputs": []
    }
  ]
}